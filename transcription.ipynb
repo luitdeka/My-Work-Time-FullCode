{
 "cells": [
  {
   "cell_type": "code",
   "execution_count": 27,
   "id": "6fd27005-6fae-4fcd-b6db-672cabdfaab3",
   "metadata": {},
   "outputs": [],
   "source": [
    "import whisper\n",
    "import pandas as pd\n",
    "import requests\n",
    "model = whisper.load_model(\"base\")"
   ]
  },
  {
   "cell_type": "markdown",
   "id": "363517ba-a240-433f-8f47-10dad0961569",
   "metadata": {},
   "source": [
    "### Get Audio File"
   ]
  },
  {
   "cell_type": "code",
   "execution_count": 32,
   "id": "75b8a65f-2453-48b6-858a-45e9aeeec519",
   "metadata": {},
   "outputs": [
    {
     "name": "stdout",
     "output_type": "stream",
     "text": [
      "[youtube] Extracting URL: https://www.youtube.com/watch?v=w82a1FT5o88\n",
      "[youtube] w82a1FT5o88: Downloading webpage\n",
      "[youtube] w82a1FT5o88: Downloading tv client config\n",
      "[youtube] w82a1FT5o88: Downloading player e12fbea4-main\n",
      "[youtube] w82a1FT5o88: Downloading tv player API JSON\n",
      "[youtube] w82a1FT5o88: Downloading ios player API JSON\n",
      "[youtube] w82a1FT5o88: Downloading m3u8 information\n",
      "[info] w82a1FT5o88: Downloading 1 format(s): 398+251\n"
     ]
    },
    {
     "name": "stderr",
     "output_type": "stream",
     "text": [
      "python(36489) MallocStackLogging: can't turn off malloc stack logging because it was not enabled.\n"
     ]
    },
    {
     "name": "stdout",
     "output_type": "stream",
     "text": [
      "[download] Destination: test_vid.f398.mp4\n",
      "[download] 100% of   21.43MiB in 00:00:03 at 5.85MiB/s     \n",
      "[download] Destination: test_vid.f251.webm\n",
      "[download] 100% of    6.29MiB in 00:00:00 at 6.93MiB/s   \n",
      "[Merger] Merging formats into \"test_vid.webm\"\n"
     ]
    },
    {
     "name": "stderr",
     "output_type": "stream",
     "text": [
      "python(36490) MallocStackLogging: can't turn off malloc stack logging because it was not enabled.\n"
     ]
    },
    {
     "name": "stdout",
     "output_type": "stream",
     "text": [
      "Deleting original file test_vid.f398.mp4 (pass -k to keep)\n",
      "Deleting original file test_vid.f251.webm (pass -k to keep)\n"
     ]
    }
   ],
   "source": [
    "\"\"\"url = \"https://www.youtube.com/watch?v=w82a1FT5o88\"\n",
    "file = \"test_vid.mp4\"\n",
    "response = requests.get(url, stream=True)\n",
    "response.raise_for_status() # Raise an exception for bad status codes (4xx or 5xx)\n",
    "with open(file, 'wb') as f:\n",
    "    for chunk in response.iter_content(chunk_size=8192):\n",
    "        f.write(chunk)\n",
    "print(f\"Video downloaded successfully to {file}\")\n",
    "\n",
    "from pytube import YouTube\n",
    "\n",
    "url = \"https://www.youtube.com/watch?v=w82a1FT5o88\"\n",
    "yt = YouTube(url)\n",
    "stream = yt.streams.get_highest_resolution()\n",
    "stream.download(filename=\"test_vid.mp4\")\n",
    "print(\"Video downloaded successfully.\")\"\"\"\n",
    "\n",
    "import yt_dlp\n",
    "\n",
    "url = \"https://www.youtube.com/watch?v=w82a1FT5o88\"\n",
    "ydl_opts = {\n",
    "    'format': 'bestvideo+bestaudio/best',\n",
    "    'outtmpl': 'test_vid.%(ext)s'\n",
    "}\n",
    "\n",
    "with yt_dlp.YoutubeDL(ydl_opts) as ydl:\n",
    "    ydl.download([url])"
   ]
  },
  {
   "cell_type": "markdown",
   "id": "d5862e30-fdbb-402a-90fd-3886930a7b1d",
   "metadata": {},
   "source": [
    "### Transcribe"
   ]
  },
  {
   "cell_type": "code",
   "execution_count": 34,
   "id": "26168102-6ce5-45f5-b111-dc57d85d5388",
   "metadata": {},
   "outputs": [
    {
     "name": "stderr",
     "output_type": "stream",
     "text": [
      "/opt/anaconda3/envs/VikingHacks/lib/python3.12/site-packages/whisper/transcribe.py:132: UserWarning: FP16 is not supported on CPU; using FP32 instead\n",
      "  warnings.warn(\"FP16 is not supported on CPU; using FP32 instead\")\n",
      "python(36556) MallocStackLogging: can't turn off malloc stack logging because it was not enabled.\n"
     ]
    }
   ],
   "source": [
    "info = model.transcribe(\"test_vid.webm\")"
   ]
  },
  {
   "cell_type": "markdown",
   "id": "dc33e562-27ae-4d19-b670-78c281e347de",
   "metadata": {},
   "source": [
    "### Get Data"
   ]
  },
  {
   "cell_type": "code",
   "execution_count": 35,
   "id": "0ba360bc-67cc-4163-8aa7-654e0c991eca",
   "metadata": {},
   "outputs": [],
   "source": [
    "segs = info[\"segments\"]"
   ]
  },
  {
   "cell_type": "code",
   "execution_count": 36,
   "id": "33f47e3b-89af-498a-b3d4-e58eed72aa88",
   "metadata": {},
   "outputs": [
    {
     "data": {
      "text/plain": [
       "\" What are the first words you should say in a speech? And what are the last words you should say in a speech? Now, tomorrow, I don't know how many of you are speaking, but I guarantee if you go to conferences, 19 out of 20 speakers will start in one of these ways. Number one, my name is Connor Neal. I'm from Tanggo, and this talk is about the latest trend in monitoring strategies. Now, all of you are sitting with a piece of paper in front of you that says, I'm Connor Neal, I've come from Ireland, and I'm going to talk about tango zero for this. So by repeating what you already know, I'm giving a signal that it's a time to get your blackberry out. I've just signaled that this talk is opportunity to reconnect with blackberry, make sure the office is okay, maybe get some plans together for the weekend. Another way to start. The lights, the mic's working. How much time have I got? Okay, right. Is it plugged in? And you laugh, but I guarantee tomorrow there's going to be some moments that get a little bit on. And why? Because this is for some of you, the first time you see this individual, they're here as a leader in their industry, and your kid at school presenting on giraffes does a better job. And I'm sad. I think there's only three ways of starting a speech. And it's the same if you went into a bar, and there's a group of people as a networking event, much like you were at before you walked into this room. And maybe I came up to a group, this group of three people are having a little conversation. And I say, hi, I'm Connor, I'm Irish, 38 years old. I have an interest in sailing, I like running. And they've walked away. So how do you get people to engage with you when you're networking? I say, in networking, the best thing you can do is walk up. I think we know someone in common. Try and walk away when someone comes up and says that to you. Hopefully you've done your research, so you do know that you've known someone in common. But with LinkedIn, you can find out who knows who on anyone you want. How to start a speech? First way, with a question that matters to the audience. How do you phrase a problem that the audience faces in a question? So that'd be the third best way of starting a speech. The second best way of starting a speech was with a factoid that shocks. There's more people alive today than have ever died. There's more people alive today than have ever died. There's a lot of speeches that can follow on from there. Every two minutes, the energy reaching the earth from the sun is equivalent to the whole annual usage of humanity. All the energy, all the cars, everything moving, all the lighting, all the air conditioning of the world. In one year is equivalent to two minutes of sun. Does that change how you think about energy? So what's a fact that shocks the audience into rethinking? And Google has transformed your ability to get at these facts. Given two or three minutes, you can find out one whether anything I've said is true. But you trust me because I looked apart and I'm from ESC. Those are, in fact, two true facts. I usually get someone come up to me and I'm sure how do they measure dead in a life? But it's true and it's not even close. But the best way to start a speech and the way that I hope all of you use from now forward is the same way we start a story to a child. Now how do we start a story to a child? Erase una vez, once upon a time. And what happens when you say once upon a time? I can tell you what happens when I say once upon a time my daughter leans forward. Get ready to hear, engages. And we were all trained as kids to know when a story's coming. We also know when a teacher is about to deliver a 40 minute boring lecture that has no impact on our lives. But in business, you don't hear Jack Welsh saying once upon a time. Steve Jobs doesn't start his speech once upon a time. So there's a grown up way of saying once upon a time. And if you listen to the conversations that are interesting around you at a dinner table in a networking event, if you listen to the people that are gathering the group of eight that are listening to them, the way they're talking is different. The way they start is different. The way you tell stories as an adult is in October was the last time I was in this room. There were 120 people in the room. And I was having a little conversation with one of the world experts on public speaking. And he said something to me. He said something to me that's had me thinking ever since. He said something to me that changed what I think about what's important in speaking. Now I can pause for about 30 seconds, two, three minutes. And you want to know what he said. So in speaking in sales, we assume self-interest. So if you can tell a story from your own life that connects you to why this topic is important to you, why are you first joined the company? When you first saw someone benefit, when you saw how their life was changed. And I think here exploring what quality of life means for you. In your business, how do you affect quality of life for a customer? Because that's where the stories that will start to connect you to the audience will come from. Because stories are about people. They're not about objects, they're not about things. It's about the people behind the things. If you want to tell a good story about tango, don't talk about the software. Talk about the people who built the software. What they do, how they are, what's important to them, what they sacrifice. And in your own life, what does quality of life mean? What sacrifices have you made to achieve something that was more important? And if you can tell stories and the audience connect with those stories, then they want to hear what you have to say. And all the reasons and all the benefits they're all written in the document and in the PowerPoint. But they need to trust you. And they need to care about you as a person to engage with you and then decide that they will act.\""
      ]
     },
     "execution_count": 36,
     "metadata": {},
     "output_type": "execute_result"
    }
   ],
   "source": [
    "info[\"text\"]"
   ]
  },
  {
   "cell_type": "code",
   "execution_count": 46,
   "id": "4b489e7d-70b6-4b6d-acac-99019c207a11",
   "metadata": {},
   "outputs": [],
   "source": [
    "text = []\n",
    "start = []\n",
    "end = []\n",
    "for i in range(len(segs)):\n",
    "    text.append(segs[i][\"text\"].rstrip().strip())\n",
    "    start.append(segs[i][\"start\"])\n",
    "    end.append(segs[i][\"end\"])"
   ]
  },
  {
   "cell_type": "code",
   "execution_count": 38,
   "id": "ae6abd2d-e97b-4cc5-b283-2a77eb3fddeb",
   "metadata": {},
   "outputs": [],
   "source": [
    "df_info = pd.DataFrame({\"text\": text, \"start\": start, \"end\": end})"
   ]
  },
  {
   "cell_type": "code",
   "execution_count": 39,
   "id": "a2757b0a-63e8-46d9-87b7-7a5c0025fdee",
   "metadata": {},
   "outputs": [
    {
     "data": {
      "text/html": [
       "<div>\n",
       "<style scoped>\n",
       "    .dataframe tbody tr th:only-of-type {\n",
       "        vertical-align: middle;\n",
       "    }\n",
       "\n",
       "    .dataframe tbody tr th {\n",
       "        vertical-align: top;\n",
       "    }\n",
       "\n",
       "    .dataframe thead th {\n",
       "        text-align: right;\n",
       "    }\n",
       "</style>\n",
       "<table border=\"1\" class=\"dataframe\">\n",
       "  <thead>\n",
       "    <tr style=\"text-align: right;\">\n",
       "      <th></th>\n",
       "      <th>text</th>\n",
       "      <th>start</th>\n",
       "      <th>end</th>\n",
       "    </tr>\n",
       "  </thead>\n",
       "  <tbody>\n",
       "    <tr>\n",
       "      <th>0</th>\n",
       "      <td>What are the first words you should say in a s...</td>\n",
       "      <td>0.0</td>\n",
       "      <td>4.0</td>\n",
       "    </tr>\n",
       "    <tr>\n",
       "      <th>1</th>\n",
       "      <td>And what are the last words you should say in ...</td>\n",
       "      <td>4.0</td>\n",
       "      <td>8.0</td>\n",
       "    </tr>\n",
       "    <tr>\n",
       "      <th>2</th>\n",
       "      <td>Now, tomorrow, I don't know how many of you ar...</td>\n",
       "      <td>10.0</td>\n",
       "      <td>14.0</td>\n",
       "    </tr>\n",
       "    <tr>\n",
       "      <th>3</th>\n",
       "      <td>but I guarantee if you go to conferences,</td>\n",
       "      <td>14.0</td>\n",
       "      <td>19.0</td>\n",
       "    </tr>\n",
       "    <tr>\n",
       "      <th>4</th>\n",
       "      <td>19 out of 20 speakers will start in one of the...</td>\n",
       "      <td>19.0</td>\n",
       "      <td>23.0</td>\n",
       "    </tr>\n",
       "    <tr>\n",
       "      <th>...</th>\n",
       "      <td>...</td>\n",
       "      <td>...</td>\n",
       "      <td>...</td>\n",
       "    </tr>\n",
       "    <tr>\n",
       "      <th>91</th>\n",
       "      <td>What sacrifices have you made to achieve somet...</td>\n",
       "      <td>497.0</td>\n",
       "      <td>501.0</td>\n",
       "    </tr>\n",
       "    <tr>\n",
       "      <th>92</th>\n",
       "      <td>And if you can tell stories and the audience c...</td>\n",
       "      <td>501.0</td>\n",
       "      <td>509.0</td>\n",
       "    </tr>\n",
       "    <tr>\n",
       "      <th>93</th>\n",
       "      <td>And all the reasons and all the benefits they'...</td>\n",
       "      <td>509.0</td>\n",
       "      <td>514.0</td>\n",
       "    </tr>\n",
       "    <tr>\n",
       "      <th>94</th>\n",
       "      <td>But they need to trust you.</td>\n",
       "      <td>514.0</td>\n",
       "      <td>517.0</td>\n",
       "    </tr>\n",
       "    <tr>\n",
       "      <th>95</th>\n",
       "      <td>And they need to care about you as a person to...</td>\n",
       "      <td>517.0</td>\n",
       "      <td>523.0</td>\n",
       "    </tr>\n",
       "  </tbody>\n",
       "</table>\n",
       "<p>96 rows × 3 columns</p>\n",
       "</div>"
      ],
      "text/plain": [
       "                                                 text  start    end\n",
       "0   What are the first words you should say in a s...    0.0    4.0\n",
       "1   And what are the last words you should say in ...    4.0    8.0\n",
       "2   Now, tomorrow, I don't know how many of you ar...   10.0   14.0\n",
       "3           but I guarantee if you go to conferences,   14.0   19.0\n",
       "4   19 out of 20 speakers will start in one of the...   19.0   23.0\n",
       "..                                                ...    ...    ...\n",
       "91  What sacrifices have you made to achieve somet...  497.0  501.0\n",
       "92  And if you can tell stories and the audience c...  501.0  509.0\n",
       "93  And all the reasons and all the benefits they'...  509.0  514.0\n",
       "94                        But they need to trust you.  514.0  517.0\n",
       "95  And they need to care about you as a person to...  517.0  523.0\n",
       "\n",
       "[96 rows x 3 columns]"
      ]
     },
     "execution_count": 39,
     "metadata": {},
     "output_type": "execute_result"
    }
   ],
   "source": [
    "df_info"
   ]
  },
  {
   "cell_type": "code",
   "execution_count": 40,
   "id": "cc8f13dc-2f92-457e-89cf-8390454f8b6c",
   "metadata": {},
   "outputs": [],
   "source": [
    "from docx import Document"
   ]
  },
  {
   "cell_type": "code",
   "execution_count": 41,
   "id": "4a341ad5-35c0-42f3-8164-cde90b25c973",
   "metadata": {},
   "outputs": [],
   "source": [
    "doc = Document()"
   ]
  },
  {
   "cell_type": "code",
   "execution_count": 42,
   "id": "3e716800-904d-4e7c-a52c-8f5e644729b6",
   "metadata": {},
   "outputs": [
    {
     "data": {
      "text/plain": [
       "<docx.text.paragraph.Paragraph at 0x1359c7a70>"
      ]
     },
     "execution_count": 42,
     "metadata": {},
     "output_type": "execute_result"
    }
   ],
   "source": [
    "doc.add_heading(f\"Transcriptions for {aud}\", 0)"
   ]
  },
  {
   "cell_type": "code",
   "execution_count": 43,
   "id": "32f7ec0e-d75d-4f5f-a9b8-17286b12f7b7",
   "metadata": {},
   "outputs": [],
   "source": [
    "for i in range(len(df_info)):\n",
    "    doc.add_paragraph(df_info.iloc[i].text)"
   ]
  },
  {
   "cell_type": "code",
   "execution_count": 44,
   "id": "9a17513d-8aa0-4137-b457-fc8b995d7794",
   "metadata": {},
   "outputs": [],
   "source": [
    "doc.save('demo.docx')"
   ]
  },
  {
   "cell_type": "code",
   "execution_count": 45,
   "id": "80ff15fa-a281-43cf-aeea-9d290952bcf8",
   "metadata": {},
   "outputs": [
    {
     "data": {
      "application/vnd.jupyter.widget-view+json": {
       "model_id": "56c2598c0a0749b29a7b06114d3c29ff",
       "version_major": 2,
       "version_minor": 0
      },
      "text/plain": [
       "  0%|          | 0/1 [00:00<?, ?it/s]"
      ]
     },
     "metadata": {},
     "output_type": "display_data"
    },
    {
     "name": "stderr",
     "output_type": "stream",
     "text": [
      "python(36582) MallocStackLogging: can't turn off malloc stack logging because it was not enabled.\n"
     ]
    }
   ],
   "source": [
    "from docx2pdf import convert\n",
    "input_file = \"demo.docx\"\n",
    "output_file = \"demo.pdf\"\n",
    "convert(input_file, output_file)"
   ]
  },
  {
   "cell_type": "code",
   "execution_count": null,
   "id": "c6715e87-9c5c-49d6-8879-2d25d1669121",
   "metadata": {},
   "outputs": [],
   "source": []
  }
 ],
 "metadata": {
  "kernelspec": {
   "display_name": "Python 3 (ipykernel)",
   "language": "python",
   "name": "python3"
  },
  "language_info": {
   "codemirror_mode": {
    "name": "ipython",
    "version": 3
   },
   "file_extension": ".py",
   "mimetype": "text/x-python",
   "name": "python",
   "nbconvert_exporter": "python",
   "pygments_lexer": "ipython3",
   "version": "3.12.1"
  }
 },
 "nbformat": 4,
 "nbformat_minor": 5
}
